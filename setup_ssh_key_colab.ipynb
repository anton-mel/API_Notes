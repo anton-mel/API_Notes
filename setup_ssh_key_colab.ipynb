{
  "nbformat": 4,
  "nbformat_minor": 0,
  "metadata": {
    "colab": {
      "provenance": [],
      "include_colab_link": true
    },
    "kernelspec": {
      "name": "python3",
      "display_name": "Python 3"
    },
    "language_info": {
      "name": "python"
    }
  },
  "cells": [
    {
      "cell_type": "markdown",
      "metadata": {
        "id": "view-in-github",
        "colab_type": "text"
      },
      "source": [
        "<a href=\"https://colab.research.google.com/github/anton-mel/API_Notes/blob/main/setup_ssh_key_colab.ipynb\" target=\"_parent\"><img src=\"https://colab.research.google.com/assets/colab-badge.svg\" alt=\"Open In Colab\"/></a>"
      ]
    },
    {
      "cell_type": "code",
      "execution_count": null,
      "metadata": {
        "id": "7ChnFun-VQnm"
      },
      "outputs": [],
      "source": [
        "import os\n",
        "from google.colab import drive\n",
        "from google.colab import auth\n",
        "from google.auth import default\n",
        "\n",
        "drive.mount('/content/drive/', force_remount=True)\n",
        "\n",
        "os.makedirs('/content/drive/MyDrive/workspace/', exist_ok=True)\n",
        "os.chdir('/content/drive/MyDrive/workspace/')\n",
        "\n",
        "# You will be prompted to connect your email to Google Colab,\n",
        "# go ahead and accept"
      ]
    },
    {
      "cell_type": "markdown",
      "source": [
        "Create a new SSH key for Google Colab"
      ],
      "metadata": {
        "id": "7M9prWUAlJaC"
      }
    },
    {
      "cell_type": "code",
      "source": [
        "!mkdir -p /root/.ssh\n",
        "\n",
        "# You will be prompted to enter a password, DO NOT enter a password\n",
        "# github uses /dev/ttyl (not available on Colab) to fetch passwords, so it will cause an error later when using it\n",
        "# Please hit enter 3 times, once on each empty prompt\n",
        "!ssh-keygen -t rsa -b 4096"
      ],
      "metadata": {
        "id": "HbdwCHjHkzw0"
      },
      "execution_count": null,
      "outputs": []
    },
    {
      "cell_type": "markdown",
      "source": [
        "Add github.com to your list of known hosts"
      ],
      "metadata": {
        "id": "uKp_CEKul1Zv"
      }
    },
    {
      "cell_type": "code",
      "source": [
        "!ssh-keyscan -t rsa github.com >> ~/.ssh/known_hosts"
      ],
      "metadata": {
        "id": "EY4XgujWlz9j"
      },
      "execution_count": null,
      "outputs": []
    },
    {
      "cell_type": "markdown",
      "source": [
        "Copy SSH key and add it to github.com"
      ],
      "metadata": {
        "id": "477xkz-tl_NK"
      }
    },
    {
      "cell_type": "code",
      "source": [
        "!cat /root/.ssh/id_rsa.pub\n",
        "\n",
        "# Copy the output and follow instructions here:\n",
        "# https://docs.github.com/en/authentication/connecting-to-github-with-ssh/adding-a-new-ssh-key-to-your-github-account"
      ],
      "metadata": {
        "id": "889QrKO2l8tA"
      },
      "execution_count": null,
      "outputs": []
    },
    {
      "cell_type": "markdown",
      "source": [
        "Test SSH key"
      ],
      "metadata": {
        "id": "QHITkWFImh6h"
      }
    },
    {
      "cell_type": "code",
      "source": [
        "!ssh -T git@github.com\n",
        "\n",
        "# You should see the following message:\n",
        "# Warning: Permanently added the RSA host key for IP address <IP> to the list of known hosts.\n",
        "# Hi <username>! You've successfully authenticated, but GitHub does not provide shell access."
      ],
      "metadata": {
        "id": "39wnQrjcmc2h"
      },
      "execution_count": null,
      "outputs": []
    },
    {
      "cell_type": "markdown",
      "source": [
        "Save your SSH key"
      ],
      "metadata": {
        "id": "TuzjbjJpm2yq"
      }
    },
    {
      "cell_type": "code",
      "source": [
        "!mkdir -p /content/drive/MyDrive/workspace/ssh_keys\n",
        "!cp /root/.ssh/id_rsa* /content/drive/MyDrive/workspace/ssh_keys/"
      ],
      "metadata": {
        "id": "2MiGXFX3mfcI"
      },
      "execution_count": null,
      "outputs": []
    }
  ]
}